{
 "metadata": {
  "language_info": {
   "codemirror_mode": {
    "name": "ipython",
    "version": 3
   },
   "file_extension": ".py",
   "mimetype": "text/x-python",
   "name": "python",
   "nbconvert_exporter": "python",
   "pygments_lexer": "ipython3",
   "version": "3.8.5"
  },
  "orig_nbformat": 2,
  "kernelspec": {
   "name": "python385jvsc74a57bd031f2aee4e71d21fbe5cf8b01ff0e069b9275f58929596ceb00d14d90e3e16cd6",
   "display_name": "Python 3.8.5 64-bit"
  },
  "metadata": {
   "interpreter": {
    "hash": "31f2aee4e71d21fbe5cf8b01ff0e069b9275f58929596ceb00d14d90e3e16cd6"
   }
  }
 },
 "nbformat": 4,
 "nbformat_minor": 2,
 "cells": [
  {
   "cell_type": "code",
   "execution_count": 3,
   "metadata": {},
   "outputs": [
    {
     "output_type": "stream",
     "name": "stdout",
     "text": [
      "Speech recognition version:  3.8.1\n"
     ]
    }
   ],
   "source": [
    "import speech_recognition as sr\n",
    "import random\n",
    "import time\n",
    "print(\"Speech recognition version: \", sr.__version__)\n",
    "r = sr.Recognizer()\n",
    "\n",
    "aud_1 = \"audio_files_harvard.wav\"\n",
    "aud_2 = \"audio_files_jackhammer.wav\""
   ]
  },
  {
   "cell_type": "code",
   "execution_count": 4,
   "metadata": {},
   "outputs": [
    {
     "output_type": "stream",
     "name": "stdout",
     "text": [
      "Complete segment:  the still smell of old beer drinkers it takes hi to bring out the order I called it yourself invest a salt a kotess find the M tacos Al pastor my favourite is just for food is Bihar cross bun\n",
      "First four seconds:  the still smell of old beer drinkers\n",
      "Four seconds after first four:  ethics he to bring out the order I called it\n",
      "Capture with 4.7 offset and 2.8:  excreta bring out the order\n",
      "Adjusted for ambient noise:  smell during periods\n",
      "JSON String:  {'alternative': [{'transcript': 'smell during periods', 'confidence': 0.79938751}, {'transcript': 'smell during sex'}, {'transcript': 'smell during rains'}, {'transcript': 'smell'}, {'transcript': 'smell during'}], 'final': True}\n"
     ]
    }
   ],
   "source": [
    "### Reading from file\n",
    "#clean audio file\n",
    "harvard = sr.AudioFile(aud_1)\n",
    "\n",
    "#audio file containing noise\n",
    "jackhammer = sr.AudioFile(aud_2)\n",
    "\n",
    "#capturing the complete segment\n",
    "with harvard as source:\n",
    "  audio = r.record(source)\n",
    "type(audio)\n",
    "complete_segment = r.recognize_google(audio)\n",
    "print(\"Complete segment: \", complete_segment)\n",
    "\n",
    "#capturing a segement with offset and duration\n",
    "with harvard as source:\n",
    "  #capture first 4 seconds of the file\n",
    "  audio = r.record(source, duration=4)\n",
    "  #capture 4 seconds after the first four seconds\n",
    "  audio2 = r.record(source, duration=4)\n",
    "segment = r.recognize_google(audio)\n",
    "print(\"First four seconds: \", segment)\n",
    "segment = r.recognize_google(audio2)\n",
    "print(\"Four seconds after first four: \", segment)\n",
    "\n",
    "with harvard as source:\n",
    "  #starts from 4.7 segments and captures for a further 2.8 seconds from here\n",
    "  audio = r.record(source, offset=4.7, duration=2.8)\n",
    "segment = r.recognize_google(audio)\n",
    "\n",
    "print(\"Capture with 4.7 offset and 2.8: \", segment) #depending on offset, you may get incorrect (cut) transcription\n",
    "\n",
    "with jackhammer as source:\n",
    "  #calibrates the recognizer to the noise level of the audio after reading the first second\n",
    "  r.adjust_for_ambient_noise(source, duration=0.5)\n",
    "  audio = r.record(source)\n",
    "\n",
    "segment = r.recognize_google(audio)\n",
    "print(\"Adjusted for ambient noise: \", segment)\n",
    "\n",
    "### When there's noise in audio\n",
    "### it is better to check the JSON\n",
    "### response from the API\n",
    "segment = r.recognize_google(audio, show_all=True)\n",
    "print(\"JSON String: \", segment)"
   ]
  },
  {
   "cell_type": "code",
   "execution_count": 25,
   "metadata": {},
   "outputs": [
    {
     "output_type": "stream",
     "name": "stdout",
     "text": [
      "Hi, I am the door and I listen to everything :-)\n",
      "Listening...\n",
      "Interpreting...\n",
      "You said: close\n",
      ".\n",
      ".\n",
      ".\n",
      "Door closed!\n"
     ]
    }
   ],
   "source": [
    "### reading from mic\n",
    "### This will not work on Google Colab\n",
    "### Local machine with a microphone is required to run it\n",
    "### Run sr.Microphone.list_microphone_names() to check list of devices attached\n",
    "\n",
    "def recognize_speech_from_mic(recognizer, microphone):\n",
    "    if not isinstance(recognizer, sr.Recognizer):\n",
    "        raise TypeError(\"`recognizer` must be `Recognizer` instance\")\n",
    "    if not isinstance(microphone, sr.Microphone):\n",
    "        raise TypeError(\"`microphone` must be `Microphone` instance\")\n",
    "    with microphone as source:\n",
    "        recognizer.adjust_for_ambient_noise(source)\n",
    "        audio = recognizer.listen(source)\n",
    "    print(\"Interpreting...\")\n",
    "    response = {\n",
    "        \"success\": True,\n",
    "        \"error\": None,\n",
    "        \"transcription\": None\n",
    "    }\n",
    "    try:\n",
    "        response[\"transcription\"] = recognizer.recognize_google(audio)\n",
    "    except sr.RequestError:\n",
    "        # API was unreachable or unresponsive\n",
    "        response[\"success\"] = False\n",
    "        response[\"error\"] = \"API unavailable\"\n",
    "    except sr.UnknownValueError:\n",
    "        # speech was unintelligible\n",
    "        response[\"error\"] = \"Unable to recognize speech\"\n",
    "\n",
    "    return response\n",
    "\n",
    "#sr.Microphone.list_microphone_names()\n",
    "mic = sr.Microphone()\n",
    "#with mic as source:\n",
    "#    r.adjust_for_ambient_noise(source)\n",
    "#    audio = r.listen(source)\n",
    "#r.recognize_google(audio)\n",
    "\n",
    "\n",
    "PROMPT_LIMIT = 5\n",
    "recognizer = sr.Recognizer()\n",
    "microphone = sr.Microphone()\n",
    "\n",
    "print('Hi, I am the door and I listen to everything :-)')\n",
    "\n",
    "# if a transcription is returned, break out of the loop and\n",
    "#     continue\n",
    "# if no transcription returned and API request failed, break\n",
    "#     loop and continue\n",
    "# if API request succeeded but no transcription was returned,\n",
    "#     repeat PROMPT_LIMIT times\n",
    "\n",
    "for j in range(PROMPT_LIMIT):\n",
    "    print('Listening...')\n",
    "    listen = recognize_speech_from_mic(recognizer, microphone)\n",
    "    if listen[\"transcription\"]:\n",
    "        break\n",
    "    if not listen[\"success\"]:\n",
    "        break\n",
    "\n",
    "if listen[\"error\"]:\n",
    "    print(\"I need a break :(\")\n",
    "    ## print(\"ERROR: {}\".format(guess[\"error\"]))\n",
    "\n",
    "else:\n",
    "    keyword = listen[\"transcription\"].lower()\n",
    "    print(\"You said: {}\".format(keyword))\n",
    "    if keyword == 'close':\n",
    "        time.sleep(1)\n",
    "        print('.')\n",
    "        time.sleep(1)\n",
    "        print('.')\n",
    "        time.sleep(1)\n",
    "        print('.')\n",
    "        time.sleep(1)\n",
    "        print(\"Door closed!\")\n",
    "\n",
    "    elif keyword == 'open':\n",
    "        time.sleep(1)\n",
    "        print('.')\n",
    "        time.sleep(1)\n",
    "        print('.')\n",
    "        time.sleep(1)\n",
    "        print('.')\n",
    "        time.sleep(1)    \n",
    "        print(\"Door opened!\")\n",
    "\n",
    "    else:\n",
    "        time.sleep(1)\n",
    "        print('.')\n",
    "        time.sleep(1)\n",
    "        print('.')\n",
    "        time.sleep(1)\n",
    "        print('.')\n",
    "        time.sleep(1)\n",
    "        print('You kid, play somewhere else!')\n"
   ]
  }
 ]
}